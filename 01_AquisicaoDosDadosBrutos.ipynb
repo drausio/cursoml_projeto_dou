{
 "cells": [
  {
   "cell_type": "markdown",
   "metadata": {
    "slideshow": {
     "slide_type": "slide"
    }
   },
   "source": [
    "# Projeto Classificador DOU\n",
    "\n"
   ]
  },
  {
   "cell_type": "markdown",
   "metadata": {
    "colab_type": "text",
    "id": "lvn2tZMuCCqh",
    "slideshow": {
     "slide_type": "slide"
    }
   },
   "source": [
    "#**Buscando os dados na Portal Dados Abertos** [Dados Abertos gov.br](http://dados.gov.br)\n",
    "\n",
    "| Ano  | Endereço                  |Ano  | Endereço                  | Ano  | Endereço                  |Ano  | Endereço                  |\n",
    "|------|-------------------------- |------|-------------------------- |------|-------------------------- |------|-------------------------- |\n",
    "|2002| [DOU 2002](http://dados.gov.br/dataset/diario-oficial-da-uniao-materias-publicadas-em-2002)|   2003  | [DOU 2003](http://dados.gov.br/dataset/diario-oficial-da-uniao-materias-publicadas-em-2003)|   2004  | [DOU 2004](http://dados.gov.br/dataset/diario-oficial-da-uniao-materias-publicadas-em-2004)|   2005  | [DOU 2005](http://dados.gov.br/dataset/diario-oficial-da-uniao-materias-publicadas-em-2005)|\n",
    "|   2006  | [DOU 2006](http://dados.gov.br/dataset/diario-oficial-da-uniao-materias-publicadas-em-2006)|   2007  | [DOU 2007](http://dados.gov.br/dataset/diario-oficial-da-uniao-materias-publicadas-em-2007)|   2008  | [DOU 2008](http://dados.gov.br/dataset/diario-oficial-da-uniao-materias-publicadas-em-2008)|   2009  | [DOU 2009](http://dados.gov.br/dataset/diario-oficial-da-uniao-materias-publicadas-em-2009)|\n",
    "|   2010  | [DOU 2010](http://dados.gov.br/dataset/diario-oficial-da-uniao-materias-publicadas-em-2010)|   2011  | [DOU 2011](http://dados.gov.br/dataset/diario-oficial-da-uniao-materias-publicadas-em-2011)|   2012  | [DOU 2012](http://dados.gov.br/dataset/diario-oficial-da-uniao-materias-publicadas-em-2012)|   2013  | [DOU 2013](http://dados.gov.br/dataset/diario-oficial-da-uniao-materias-publicadas-em-2013)|\n",
    "|   2014  | [DOU 2014](http://dados.gov.br/dataset/diario-oficial-da-uniao-materias-publicadas-em-2014)|   2015  | [DOU 2015](http://dados.gov.br/dataset/diario-oficial-da-uniao-materias-publicadas-em-2015)|   2016  | [DOU 2016](http://dados.gov.br/dataset/diario-oficial-da-uniao-materias-publicadas-em-2016)|   2017  | [DOU 2017](http://dados.gov.br/dataset/diario-oficial-da-uniao-materias-publicadas-em-2017)|\n",
    "|   2018  | [DOU 2018](http://dados.gov.br/dataset/diario-oficial-da-uniao-materias-publicadas-em-2018)|   2019  | [DOU 2019](http://dados.gov.br/dataset/diario-oficial-da-uniao-materias-publicadas-em-2019)|   2020  | [DOU 2020](http://dados.gov.br/dataset/diario-oficial-da-uniao-materias-publicadas-em-2020)|\n",
    "\n",
    "\n",
    "\n",
    "\n",
    "\n"
   ]
  },
  {
   "cell_type": "markdown",
   "metadata": {
    "slideshow": {
     "slide_type": "subslide"
    }
   },
   "source": [
    "Parâmetros iniciais do caderno notebook"
   ]
  },
  {
   "cell_type": "code",
   "execution_count": 1,
   "metadata": {
    "slideshow": {
     "slide_type": "subslide"
    }
   },
   "outputs": [],
   "source": [
    "#configuração da dimensões da tela de apresentação\n",
    "from notebook.services.config import ConfigManager\n",
    "cm = ConfigManager()\n",
    "\n",
    "#defina as dimensões da apresentação.\n",
    "cm.update('livereveal', {\n",
    "              'width': 1000,\n",
    "              'height': 600,\n",
    "              'scroll': True,\n",
    "         })\n",
    "base_path = 'D:/'\n",
    "#base_path = '/content/drive/My Drive/Colab Notebooks/'\n",
    "url_base_dou = \"http://dados.gov.br/dataset/diario-oficial-da-uniao-materias-publicadas-em-\"\n"
   ]
  },
  {
   "cell_type": "markdown",
   "metadata": {
    "colab_type": "text",
    "id": "aWPEHDOcIeVB",
    "slideshow": {
     "slide_type": "slide"
    }
   },
   "source": [
    "Importando as bibliotecas\n"
   ]
  },
  {
   "cell_type": "code",
   "execution_count": 2,
   "metadata": {
    "colab": {
     "base_uri": "https://localhost:8080/",
     "height": 52
    },
    "colab_type": "code",
    "id": "NwULeKAQxzqx",
    "outputId": "a60455b6-b1d8-4867-a3a6-d64f4a070066",
    "slideshow": {
     "slide_type": "slide"
    }
   },
   "outputs": [
    {
     "name": "stdout",
     "output_type": "stream",
     "text": [
      "Versão da urllib.request: 3.8\n",
      "Versão dopandas: 1.0.5\n"
     ]
    }
   ],
   "source": [
    "import os\n",
    "# importando a biblioteca pandas\n",
    "import pandas as pd\n",
    "import sklearn as sk\n",
    "import numpy as np\n",
    "import io\n",
    "from sklearn.model_selection import train_test_split\n",
    "# importando a biblioteca urlib\n",
    "import urllib.request as req\n",
    "from bs4 import BeautifulSoup\n",
    "from io import StringIO\n",
    "import requests, zipfile\n",
    "from xml.etree import ElementTree\n",
    "import os\n",
    "import csv\n",
    "from os import listdir\n",
    "from os.path import isfile, join\n",
    "import time\n",
    "from datetime import datetime\n",
    "import pytz\n",
    "import re\n",
    "import math\n",
    "import spacy\n",
    "import wget\n",
    "\n",
    "\n",
    "# Carregar Modelo de Regressão Logística\n",
    "# pesquisar na documentação sklearn: https://scikit-learn.org/stable/modules/linear_model.html\n",
    "from sklearn.linear_model import LogisticRegression\n",
    "\n",
    "print(\"Versão da urllib.request: \" +req.__version__)\n",
    "print(\"Versão dopandas: \" + pd.__version__)  \n",
    "  "
   ]
  },
  {
   "cell_type": "markdown",
   "metadata": {
    "slideshow": {
     "slide_type": "slide"
    }
   },
   "source": [
    "Funções utilizadas"
   ]
  },
  {
   "cell_type": "code",
   "execution_count": 3,
   "metadata": {
    "slideshow": {
     "slide_type": "slide"
    }
   },
   "outputs": [],
   "source": [
    "class Main:     \n",
    "    def show_current_time(self):\n",
    "        ini = time.time()\n",
    "        tz_SP = pytz.timezone('America/Sao_Paulo') \n",
    "        now = datetime.now(tz_SP)\n",
    "        current_time = now.strftime(\"%d/%m/%Y %H:%M:%S\")\n",
    "        print(\"Current Time =\", current_time)  "
   ]
  },
  {
   "cell_type": "markdown",
   "metadata": {
    "colab_type": "text",
    "id": "Pjy5DcZ-yBCk",
    "slideshow": {
     "slide_type": "slide"
    }
   },
   "source": [
    "Montando a estrutura de diretórios"
   ]
  },
  {
   "cell_type": "code",
   "execution_count": 4,
   "metadata": {
    "colab": {
     "base_uri": "https://localhost:8080/",
     "height": 69
    },
    "colab_type": "code",
    "id": "tWcq17pbylBE",
    "outputId": "f35815f2-0db1-40e0-eee9-47b455c5218b",
    "slideshow": {
     "slide_type": "slide"
    }
   },
   "outputs": [
    {
     "name": "stdout",
     "output_type": "stream",
     "text": [
      "Término da criação da árvore de diretórios.\n"
     ]
    }
   ],
   "source": [
    "try:  \n",
    "    #print(base_path)\n",
    "    os.chdir(base_path)\n",
    "    dirname = \"dou\"\n",
    "    isdir = os.path.isdir(base_path+dirname+\"/\")  \n",
    "    if not isdir:\n",
    "        print(\"criando diretório dou\")\n",
    "        os.mkdir(dirname)\n",
    "    path = base_path+dirname+\"/\"\n",
    "    os.chdir(path)\n",
    "    #print(path)\n",
    "  \n",
    "    today = datetime.today()\n",
    "    dir_years = range(2002,today.year+1)\n",
    "    for year in dir_years:\n",
    "        #print(path+str(year))\n",
    "        isdir = os.path.isdir(path+str(year))  \n",
    "        if not isdir:\n",
    "          print(\"criando diretorio do ano \" + str(year))\n",
    "          os.mkdir(path+str(year))\n",
    "        os.chdir(path+str(year))\n",
    "        months = ['01','02','03','04','05','06','07','08','09','10','11','12']\n",
    "        for month in months:\n",
    "          #print(path+str(year)+\"/\"+month)\n",
    "          isdir = os.path.isdir(path+str(year)+\"/\"+month)  \n",
    "          if not isdir:\n",
    "            print(\"criando diretorio do mes \" + month +\"/\"+str(year))\n",
    "            os.mkdir(path+str(year)+\"/\"+month)\n",
    "          os.chdir(path+str(year)+\"/\"+month)\n",
    "          dir_secoes = ['01','02','03']\n",
    "          for secao in dir_secoes:\n",
    "            #print(path+str(year)+\"/\"+month+'/'+secao)\n",
    "            isdir = os.path.isdir(path+str(year)+\"/\"+month+'/'+secao)  \n",
    "            if not isdir:\n",
    "              print(\"criando diretorio do mes\" + month + \" seção \" + secao)\n",
    "              os.mkdir(path+str(year)+\"/\"+month+'/'+secao)        \n",
    "except FileExistsError:\n",
    "      print(\"Diretório \" + base_path + dirname + \" já existe.\") \n",
    "except:\n",
    "      print(\"Erro ao criar Diretório \" + base_path + dirname +\" .\")\n",
    "print(\"Término da criação da árvore de diretórios.\") "
   ]
  },
  {
   "cell_type": "markdown",
   "metadata": {
    "colab_type": "text",
    "id": "6QGo5f4B1nHC",
    "slideshow": {
     "slide_type": "slide"
    }
   },
   "source": [
    "Carregamento dos arquivos .zip com\n",
    "xml da base DOU do portal de dados abertos do governo federal"
   ]
  },
  {
   "cell_type": "code",
   "execution_count": 5,
   "metadata": {
    "colab": {
     "base_uri": "https://localhost:8080/",
     "height": 193
    },
    "colab_type": "code",
    "id": "GqUpD8U8pIY4",
    "outputId": "6fdf6d6f-9553-4f51-9490-fd69cfbf6e1b",
    "scrolled": true,
    "slideshow": {
     "slide_type": "-"
    }
   },
   "outputs": [
    {
     "name": "stdout",
     "output_type": "stream",
     "text": [
      "Current Time = 03/10/2020 06:52:30\n"
     ]
    }
   ],
   "source": [
    "#years = ['2002','2003','2004','2005','2006','2007','2008','2009','2010','2011','2012','2013','2014','2015',\n",
    "#         '2016','2017','2018','2019','2020']\n",
    "\n",
    "years=[]\n",
    "meses=[]\n",
    "#meses = ['01','02','03','04','05','06','07','08','09','10','11','12']\n",
    "\n",
    "\n",
    "fx = Main()\n",
    "\n",
    "fx.show_current_time()\n",
    "\n",
    "\n",
    "for year in years:\n",
    "  urlopen =  url_base_dou + year \n",
    "  if year == '2017':\n",
    "    urlopen = 'http://dados.gov.br/dataset/diario-oficial-da-uniao'\n",
    "  resp = req.urlopen(urlopen)\n",
    "  conteudo = resp.read(int(resp.getheader('Content-Length')))  \n",
    "  parsed_html = BeautifulSoup(StringIO(conteudo.decode(\"UTF-8\")))  \n",
    "  for link in parsed_html.body.findAll('a', attrs={'class':'resource-url-analytics'}):\n",
    "    url = link.get('href')    \n",
    "    filename = \"S\"+link.get('href').split('/S')[-1][0:8]\n",
    "    mes = filename[-6:-4]\n",
    "    ano = filename[-4:]\n",
    "    secao = filename[-8:-6]\n",
    "    path = base_path+\"dou/\"+year+'/'+mes+'/'+secao+'/'\n",
    "    file_download = path + filename + '.zip'\n",
    "    isfile = os.path.isfile(file_download) \n",
    "    os.chdir(path)      \n",
    "    if not isfile or mes in meses :\n",
    "        print(file_download)\n",
    "        print(url)\n",
    "        if isfile:\n",
    "            os.remove(file_download)\n",
    "        try:    \n",
    "            wget.download(url)   \n",
    "            print(' download zip file to: ' + file_download + ' from url: '+url)\n",
    "        except:\n",
    "            print(' ERRO on downloading zip file to: ' + file_download + ' from url: '+url)\n",
    "  print(\"Concluído o download dos arquivos zip do ano :\" + year)\n",
    "  fx.show_current_time()\n",
    "\n"
   ]
  },
  {
   "cell_type": "code",
   "execution_count": null,
   "metadata": {},
   "outputs": [],
   "source": []
  }
 ],
 "metadata": {
  "celltoolbar": "Slideshow",
  "colab": {
   "collapsed_sections": [],
   "name": "FonteDeDados.ipynb",
   "provenance": []
  },
  "kernelspec": {
   "display_name": "Python 3",
   "language": "python",
   "name": "python3"
  },
  "language_info": {
   "codemirror_mode": {
    "name": "ipython",
    "version": 3
   },
   "file_extension": ".py",
   "mimetype": "text/x-python",
   "name": "python",
   "nbconvert_exporter": "python",
   "pygments_lexer": "ipython3",
   "version": "3.8.3"
  }
 },
 "nbformat": 4,
 "nbformat_minor": 1
}
